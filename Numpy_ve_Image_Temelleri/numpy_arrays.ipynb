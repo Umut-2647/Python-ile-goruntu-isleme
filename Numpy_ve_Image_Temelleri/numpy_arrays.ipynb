{
 "cells": [
  {
   "cell_type": "code",
   "execution_count": 33,
   "metadata": {},
   "outputs": [
    {
     "name": "stdout",
     "output_type": "stream",
     "text": [
      "<class 'list'>\n"
     ]
    },
    {
     "data": {
      "text/plain": [
       "array([[ 0,  1,  2,  3,  4,  5,  6,  7,  8,  9],\n",
       "       [10, 11, 12, 13, 14, 15, 16, 17, 18, 19],\n",
       "       [20, 21, 22, 23, 24, 25, 26, 27, 28, 29],\n",
       "       [30, 31, 32, 33, 34, 35, 36, 37, 38, 39],\n",
       "       [40, 41, 42, 43, 44, 45, 46, 47, 48, 49],\n",
       "       [50, 51, 52, 53, 54, 55, 56, 57, 58, 59],\n",
       "       [60, 61, 62, 63, 64, 65, 66, 67, 68, 69],\n",
       "       [70, 71, 72, 73, 74, 75, 76, 77, 78, 79],\n",
       "       [80, 81, 82, 83, 84, 85, 86, 87, 88, 89],\n",
       "       [90, 91, 92, 93, 94, 95, 96, 97, 98, 99]])"
      ]
     },
     "execution_count": 33,
     "metadata": {},
     "output_type": "execute_result"
    }
   ],
   "source": [
    "import numpy as np\n",
    "\n",
    "mylist=[1,2,3]\n",
    "\n",
    "print(type(mylist))\n",
    "\n",
    "myarray=np.array(mylist)\n",
    "\n",
    "myarray\n",
    "\n",
    "type(myarray)\n",
    "\n",
    "\n",
    "np.arange(0,10)\n",
    "\n",
    "np.arange(0,10,2)\n",
    "\n",
    "np.zeros(shape=(5,5)) #0 dan 5 e 5 lik bir array olusturuyoruz\n",
    "\n",
    "np.zeros(shape=(10,5))\n",
    "\n",
    "np.ones(shape=(2,4))\n",
    "\n",
    "random=np.random.randint(0,100,10) #0 dan 100 e kadar 10 tane rastgele sayi yazdiriyoruz\n",
    "random\n",
    "\n",
    "random2=np.random.randint(0,100,10) #0 dan 100 e kadar 10 tane rastgele sayi yazdiriyoruz\n",
    "random2\n",
    "\n",
    "random2.max()\n",
    "random2.min()\n",
    "\n",
    "random2.mean() #icindeki sayilarin ortalamasini verir\n",
    "\n",
    "random2.shape\n",
    "random2.reshape((2,5))\n",
    "\n",
    "mat=np.arange(0,100).reshape((10,10))\n",
    "mat\n",
    "\n",
    "mat[0:2,0:2]\n",
    "\n",
    "mat[0:4,0:4]\n",
    "\n",
    "copy=mat.copy()\n",
    "copy\n",
    "mat\n",
    "\n",
    "\n"
   ]
  }
 ],
 "metadata": {
  "kernelspec": {
   "display_name": "Python 3",
   "language": "python",
   "name": "python3"
  },
  "language_info": {
   "codemirror_mode": {
    "name": "ipython",
    "version": 3
   },
   "file_extension": ".py",
   "mimetype": "text/x-python",
   "name": "python",
   "nbconvert_exporter": "python",
   "pygments_lexer": "ipython3",
   "version": "3.12.2"
  }
 },
 "nbformat": 4,
 "nbformat_minor": 2
}
