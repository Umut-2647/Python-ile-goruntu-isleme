{
 "cells": [
  {
   "cell_type": "code",
   "execution_count": 2,
   "metadata": {},
   "outputs": [],
   "source": [
    "import numpy as np\n",
    "import cv2\n",
    "\n",
    "def daire_ciz(event,x,y,flags,param): #mouse eventlarini algilar\n",
    "    if event==cv2.EVENT_LBUTTONDOWN: #sol click a basildiginda\n",
    "        cv2.circle(img,(x,y),100,(0,255,0),-1) #daire cizer\n",
    "    \n",
    "    elif event==cv2.EVENT_RBUTTONDOWN: #sag click a basildiginda\n",
    "        cv2.circle(img,(x,y),100,(0,0,255),-1) #daire cizer\n",
    "\n",
    "\n",
    "cv2.namedWindow('image') #pencere olusturur\n",
    "cv2.setMouseCallback('image',daire_ciz) #mouse da gerceklesen eventlar icin fonksiyonu cagirir\n",
    "\n",
    "\n",
    "\n",
    "\n",
    "\n",
    "img=np.zeros((512,512,3))\n",
    "while True:\n",
    "    cv2.imshow('image',img)\n",
    "\n",
    "    if cv2.waitKey(20) & 0xFF == 27:\n",
    "        break\n",
    "\n",
    "cv2.destroyAllWindows()\n"
   ]
  }
 ],
 "metadata": {
  "kernelspec": {
   "display_name": "Python 3",
   "language": "python",
   "name": "python3"
  },
  "language_info": {
   "codemirror_mode": {
    "name": "ipython",
    "version": 3
   },
   "file_extension": ".py",
   "mimetype": "text/x-python",
   "name": "python",
   "nbconvert_exporter": "python",
   "pygments_lexer": "ipython3",
   "version": "3.12.2"
  }
 },
 "nbformat": 4,
 "nbformat_minor": 2
}
