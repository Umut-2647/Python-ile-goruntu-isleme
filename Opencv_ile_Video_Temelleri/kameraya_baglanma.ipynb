{
 "cells": [
  {
   "cell_type": "code",
   "execution_count": 2,
   "metadata": {},
   "outputs": [],
   "source": [
    "import cv2\n",
    "\n",
    "cap = cv2.VideoCapture(0) #webcam karemasina baglanmak icin 0 yazdik\n",
    "\n",
    "width = int(cap.get(cv2.CAP_PROP_FRAME_WIDTH)) #webcam karenin genisligini almak icin\n",
    "height = int(cap.get(cv2.CAP_PROP_FRAME_HEIGHT)) #webcam karenin yuksekligini almak icin\n",
    "\n",
    "while True:\n",
    "    ret,frame = cap.read() #webcam karenin okumak icin\n",
    "    frame = cv2.flip(frame,1) #webcam goruntusunu ters cevirmek icin\n",
    "    gray = cv2.cvtColor(frame,cv2.COLOR_BGR2GRAY) #webcam karenin siyah beyaz yapmak icin\n",
    "\n",
    "    cv2.imshow(\"frame\",frame) #webcam goruntusunu gosterme\n",
    "\n",
    "    if cv2.waitKey(1) & 0xFF ==ord(\"q\"):\n",
    "        break\n",
    "\n",
    "cap.release() #kamerayla olan baglantiyi kesmek icin\n",
    "cv2.destroyAllWindows() #tum pencereleri kapatmak icin  "
   ]
  }
 ],
 "metadata": {
  "kernelspec": {
   "display_name": "Python 3",
   "language": "python",
   "name": "python3"
  },
  "language_info": {
   "codemirror_mode": {
    "name": "ipython",
    "version": 3
   },
   "file_extension": ".py",
   "mimetype": "text/x-python",
   "name": "python",
   "nbconvert_exporter": "python",
   "pygments_lexer": "ipython3",
   "version": "3.12.2"
  }
 },
 "nbformat": 4,
 "nbformat_minor": 2
}
