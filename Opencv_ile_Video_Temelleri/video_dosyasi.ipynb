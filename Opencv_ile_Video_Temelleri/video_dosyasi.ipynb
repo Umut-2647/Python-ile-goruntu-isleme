{
 "cells": [
  {
   "cell_type": "code",
   "execution_count": 6,
   "metadata": {},
   "outputs": [],
   "source": [
    "import cv2\n",
    "import os\n",
    "import time\n",
    "path =os.path.join(os.getcwd(), 'media', 'video.mp4')\n",
    "\n",
    "cap = cv2.VideoCapture(path)\n",
    "\n",
    "if cap.isOpened() == False:\n",
    "    print(\"Vİdeoya baglanilamadi\")\n",
    "\n",
    "while cap.isOpened():\n",
    "    ret, frame =cap.read()\n",
    "\n",
    "    if ret==True:\n",
    "        cv2.imshow('Frame', frame)\n",
    "        time.sleep(1/25) #videoyu normal hizda oynatmak icin\n",
    "        if cv2.waitKey(20) & 0xFF == ord('q'):\n",
    "            break\n",
    "\n",
    "\n",
    "    else :\n",
    "        break\n",
    "\n",
    "cap.release()\n",
    "cv2.destroyAllWindows()"
   ]
  }
 ],
 "metadata": {
  "kernelspec": {
   "display_name": "Python 3",
   "language": "python",
   "name": "python3"
  },
  "language_info": {
   "codemirror_mode": {
    "name": "ipython",
    "version": 3
   },
   "file_extension": ".py",
   "mimetype": "text/x-python",
   "name": "python",
   "nbconvert_exporter": "python",
   "pygments_lexer": "ipython3",
   "version": "3.12.2"
  }
 },
 "nbformat": 4,
 "nbformat_minor": 2
}
