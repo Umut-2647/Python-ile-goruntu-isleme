{
 "cells": [
  {
   "cell_type": "code",
   "execution_count": 1,
   "metadata": {},
   "outputs": [],
   "source": [
    "import cv2"
   ]
  },
  {
   "cell_type": "code",
   "execution_count": 2,
   "metadata": {},
   "outputs": [],
   "source": [
    "def draw_circle(event,x,y,flags,param):\n",
    "    global center,clicked\n",
    "\n",
    "    if event==cv2.EVENT_LBUTTONDOWN:  #elimizi bastigimizda cemberin merkezi olacak noktayi al\n",
    "        center=(x,y)\n",
    "        clicked=False\n",
    "    \n",
    "    if event==cv2.EVENT_LBUTTONUP: #elimizi cektigimizda cember cizilir\n",
    "        clicked=True\n",
    "\n",
    "\n",
    "\n",
    "clicked=False #mouse ile cember cizmek icin\n",
    "center=(0,0)\n",
    "\n",
    "cap=cv2.VideoCapture(0) #webcame baglaniyor\n",
    "cv2.namedWindow(\"Frame\") \n",
    "\n",
    "cv2.setMouseCallback(\"Frame\",draw_circle)\n",
    "\n",
    "while True:\n",
    "    ret,frame= cap.read()   #webcamden goruntu alinir\n",
    "\n",
    "    if ret==False: #eger goruntu alinamazsa donguden cikar\n",
    "        break\n",
    "    \n",
    "    else:\n",
    "        if clicked: #eger mouse ile cember cizme durumu varsa\n",
    "            cv2.circle(frame,center,50,(255,0,0),5)\n",
    "        \n",
    "        cv2.imshow(\"Frame\",frame) #goruntuyu ekrana yansitir\n",
    "\n",
    "        if cv2.waitKey(1) & 0xFF==ord(\"q\"): #q tusuna basilirsa donguden cikar\n",
    "            break\n",
    "    \n",
    "cap.release() #kamerayla baglantiyi koparir\n",
    "cv2.destroyAllWindows()\n",
    "\n",
    "\n",
    "\n"
   ]
  }
 ],
 "metadata": {
  "kernelspec": {
   "display_name": "Python 3",
   "language": "python",
   "name": "python3"
  },
  "language_info": {
   "codemirror_mode": {
    "name": "ipython",
    "version": 3
   },
   "file_extension": ".py",
   "mimetype": "text/x-python",
   "name": "python",
   "nbconvert_exporter": "python",
   "pygments_lexer": "ipython3",
   "version": "3.12.2"
  }
 },
 "nbformat": 4,
 "nbformat_minor": 2
}
