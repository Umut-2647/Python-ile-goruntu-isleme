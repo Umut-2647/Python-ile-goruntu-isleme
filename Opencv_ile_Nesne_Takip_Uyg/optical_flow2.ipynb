{
 "cells": [
  {
   "cell_type": "code",
   "execution_count": 2,
   "metadata": {},
   "outputs": [],
   "source": [
    "import numpy as np\n",
    "import cv2\n",
    "\n",
    "\n",
    "cap = cv2.VideoCapture(0) #webcama bagflanma\n",
    "\n",
    "ret,frame1 = cap.read() #ilk frame okunuyor\n",
    "\n",
    "prev_Img = cv2.cvtColor(frame1,cv2.COLOR_BGR2GRAY) #ilk frame griye çevriliyor\n",
    "\n",
    "hsv_mask = np.zeros_like(frame1) #maske oluşturuluyor\n",
    "\n",
    "hsv_mask[:,:,1] =255 #maske yeşil renk\n",
    "\n",
    "while True:\n",
    "    ret, frame2 = cap.read() #webcamdan frame okunuyor\n",
    "\n",
    "    nextImg = cv2.cvtColor(frame2,cv2.COLOR_BGR2GRAY) #frame griye çevriliyor\n",
    "\n",
    "    flow =cv2.calcOpticalFlowFarneback(prev_Img,nextImg,None,0.5,3,15,3,5,1.2,0) #optical flow hesaplanıyor\n",
    "\n",
    "    mag, ang =cv2.cartToPolar(flow[:,:,0],flow[:,:,1],angleInDegrees=True)\n",
    "\n",
    "    hsv_mask[:,:,0] = ang/2 #maske renkleri atanıyor\n",
    "\n",
    "    hsv_mask[:,:,2] = cv2.normalize(mag,None,0,255,cv2.NORM_MINMAX) #maske renkleri atanıyor\n",
    "\n",
    "    bgr = cv2.cvtColor(hsv_mask,cv2.COLOR_HSV2BGR)\n",
    "\n",
    "    cv2.imshow(\"Frame\",bgr)\n",
    "\n",
    "    k= cv2.waitKey(30) & 0xff\n",
    "\n",
    "    if k == 27:\n",
    "        break\n",
    "\n",
    "    prev_Img = nextImg\n",
    "\n",
    "cap.release()\n",
    "cv2.destroyAllWindows()\n",
    "\n",
    "\n",
    "\n"
   ]
  },
  {
   "cell_type": "code",
   "execution_count": null,
   "metadata": {},
   "outputs": [],
   "source": []
  },
  {
   "cell_type": "code",
   "execution_count": null,
   "metadata": {},
   "outputs": [],
   "source": []
  },
  {
   "cell_type": "code",
   "execution_count": null,
   "metadata": {},
   "outputs": [],
   "source": []
  }
 ],
 "metadata": {
  "kernelspec": {
   "display_name": "Python 3",
   "language": "python",
   "name": "python3"
  },
  "language_info": {
   "codemirror_mode": {
    "name": "ipython",
    "version": 3
   },
   "file_extension": ".py",
   "mimetype": "text/x-python",
   "name": "python",
   "nbconvert_exporter": "python",
   "pygments_lexer": "ipython3",
   "version": "3.12.2"
  }
 },
 "nbformat": 4,
 "nbformat_minor": 2
}
