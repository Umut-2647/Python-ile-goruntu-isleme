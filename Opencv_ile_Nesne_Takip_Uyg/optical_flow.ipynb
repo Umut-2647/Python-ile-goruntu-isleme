{
 "cells": [
  {
   "cell_type": "code",
   "execution_count": 11,
   "metadata": {},
   "outputs": [],
   "source": [
    "import cv2\n",
    "import numpy as np"
   ]
  },
  {
   "cell_type": "code",
   "execution_count": 12,
   "metadata": {},
   "outputs": [],
   "source": [
    "corner_track_params = dict(maxCorners=10,qualityLevel=0.3,minDistance=7,blockSize=7) #corner detection parameters"
   ]
  },
  {
   "cell_type": "code",
   "execution_count": 13,
   "metadata": {},
   "outputs": [],
   "source": [
    "lk_params= dict(winSize=(200,200),maxLevel=2,criteria=(cv2.TERM_CRITERIA_EPS | cv2.TERM_CRITERIA_COUNT,10,0.03)) #Lucas-Kanade parameters\n",
    "\n",
    "\n"
   ]
  },
  {
   "cell_type": "code",
   "execution_count": 16,
   "metadata": {},
   "outputs": [],
   "source": [
    "cap=cv2.VideoCapture(0) #kameraya baglanma\n",
    "\n",
    "ret,prev_frame=cap.read() #ilk frame'i okuma\n",
    "\n",
    "gray_prev = cv2.cvtColor(prev_frame,cv2.COLOR_BGR2GRAY) #ilk frame'i griye cevirme\n",
    "\n",
    "#sozlukte tuttugumuz icin **yazip gonderiyoruz\n",
    "prev_Pts =cv2.goodFeaturesToTrack(gray_prev,mask=None,**corner_track_params)\n",
    "\n",
    "mask=np.zeros_like(prev_frame) #maske olusturma\n",
    "\n",
    "while True:\n",
    "    ret,frame = cap.read() #kameradan frame okuma\n",
    "    \n",
    "    frame_gray =cv2.cvtColor(frame,cv2.COLOR_BGR2GRAY) #okunan frame'i griye cevirme\n",
    "\n",
    "    nexPts, status ,err =cv2.calcOpticalFlowPyrLK(gray_prev,frame_gray,prev_Pts,None,**lk_params)\n",
    "\n",
    "    good_new = nexPts[status==1]\n",
    "    good_prev = prev_Pts[status==1]\n",
    "\n",
    "    #enumerate fonksiyonu ile hem index hem de degeri aliyoruz\n",
    "    #zip ile iki listeyi eslestiriyoruz\n",
    "\n",
    "    for i,(new,prev) in enumerate(zip(good_new,good_prev)):\n",
    "\n",
    "        x_new , y_new = new.ravel() #ravel fonksiyonu ile 1D arraya cevirme\n",
    "        x_prev , y_prev = prev.ravel() #ravel fonksiyonu ile 1D arraya cevirme\n",
    "\n",
    "        mask = cv2.line(mask,(int(x_new),int(y_new)),(int(x_prev),int(y_prev)),(0,255,0),3) #maske uzerine cizgi cizme\n",
    "\n",
    "        frame= cv2.circle(frame,(int(x_new),int(y_new)),8,(0,0,255),-1) #cember cizme\n",
    "\n",
    "    img = cv2.add(frame,mask) #frame ve maskeyi toplama\n",
    "\n",
    "    cv2.imshow(\"Frame\",frame)\n",
    "\n",
    "    k=cv2.waitKey(30) & 0xFF\n",
    "\n",
    "    if k==27:\n",
    "        break\n",
    "\n",
    "    gray_prev=frame_gray.copy() #gray_prev'i frame_gray'e esitleme\n",
    "\n",
    "    prev_Pts = good_new.reshape(-1,1,2)\n",
    "\n",
    "\n",
    "cap.release()\n",
    "cv2.destroyAllWindows()\n",
    "\n",
    "\n",
    "\n",
    "    \n",
    "\n"
   ]
  },
  {
   "cell_type": "code",
   "execution_count": null,
   "metadata": {},
   "outputs": [],
   "source": []
  }
 ],
 "metadata": {
  "kernelspec": {
   "display_name": "Python 3",
   "language": "python",
   "name": "python3"
  },
  "language_info": {
   "codemirror_mode": {
    "name": "ipython",
    "version": 3
   },
   "file_extension": ".py",
   "mimetype": "text/x-python",
   "name": "python",
   "nbconvert_exporter": "python",
   "pygments_lexer": "ipython3",
   "version": "3.12.2"
  }
 },
 "nbformat": 4,
 "nbformat_minor": 2
}
